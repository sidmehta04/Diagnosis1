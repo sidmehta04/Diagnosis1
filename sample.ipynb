{
 "cells": [
  {
   "cell_type": "code",
   "execution_count": 1,
   "metadata": {},
   "outputs": [
    {
     "name": "stdout",
     "output_type": "stream",
     "text": [
      "Loading processed data from pickle file...\n"
     ]
    }
   ],
   "source": [
    "from Diagnosis import df\n",
    "import pandas as pd\n"
   ]
  },
  {
   "cell_type": "code",
   "execution_count": 2,
   "metadata": {},
   "outputs": [
    {
     "data": {
      "text/html": [
       "<div>\n",
       "<style scoped>\n",
       "    .dataframe tbody tr th:only-of-type {\n",
       "        vertical-align: middle;\n",
       "    }\n",
       "\n",
       "    .dataframe tbody tr th {\n",
       "        vertical-align: top;\n",
       "    }\n",
       "\n",
       "    .dataframe thead th {\n",
       "        text-align: right;\n",
       "    }\n",
       "</style>\n",
       "<table border=\"1\" class=\"dataframe\">\n",
       "  <thead>\n",
       "    <tr style=\"text-align: right;\">\n",
       "      <th></th>\n",
       "      <th>Date</th>\n",
       "      <th>Product</th>\n",
       "      <th>Channel</th>\n",
       "      <th>EMR#</th>\n",
       "      <th>Consultation #</th>\n",
       "      <th>Mobile #</th>\n",
       "      <th>Member #</th>\n",
       "      <th>Type</th>\n",
       "      <th>Status</th>\n",
       "      <th>Patient Gender</th>\n",
       "      <th>...</th>\n",
       "      <th>Doctor</th>\n",
       "      <th>Chief Complaint</th>\n",
       "      <th>Diagnosis</th>\n",
       "      <th>Advice</th>\n",
       "      <th>REFERRED</th>\n",
       "      <th>Lab Tests</th>\n",
       "      <th>Medicine</th>\n",
       "      <th>Clinic Name</th>\n",
       "      <th>Prescrption json</th>\n",
       "      <th>ICD Code</th>\n",
       "    </tr>\n",
       "  </thead>\n",
       "  <tbody>\n",
       "    <tr>\n",
       "      <th>0</th>\n",
       "      <td>2020-05-15</td>\n",
       "      <td>M-Swasth  Doctor - FREE</td>\n",
       "      <td>CashPor</td>\n",
       "      <td>1</td>\n",
       "      <td>1</td>\n",
       "      <td>7571029662</td>\n",
       "      <td>21:01:84:01:25</td>\n",
       "      <td>CALL</td>\n",
       "      <td>DONE</td>\n",
       "      <td>M</td>\n",
       "      <td>...</td>\n",
       "      <td>SATISH</td>\n",
       "      <td>Other</td>\n",
       "      <td>.</td>\n",
       "      <td>referred to higher centre</td>\n",
       "      <td>NO</td>\n",
       "      <td>NaN</td>\n",
       "      <td>NO</td>\n",
       "      <td>NaN</td>\n",
       "      <td>{\"pres\":[]}</td>\n",
       "      <td>.</td>\n",
       "    </tr>\n",
       "    <tr>\n",
       "      <th>1</th>\n",
       "      <td>2021-06-10</td>\n",
       "      <td>M-Swasth  Doctor - FREE</td>\n",
       "      <td>CashPor</td>\n",
       "      <td>1</td>\n",
       "      <td>47576</td>\n",
       "      <td>7571029662</td>\n",
       "      <td>21:01:84:01:25</td>\n",
       "      <td>CALL</td>\n",
       "      <td>DONE</td>\n",
       "      <td>M</td>\n",
       "      <td>...</td>\n",
       "      <td>KADAMBARI</td>\n",
       "      <td>Other</td>\n",
       "      <td>Dysmenorrhea and menorrhagia</td>\n",
       "      <td>Advised not miss a single tablet of Ovral l\\nD...</td>\n",
       "      <td>NO</td>\n",
       "      <td>NaN</td>\n",
       "      <td>YES</td>\n",
       "      <td>NaN</td>\n",
       "      <td>{\"pres\":[{\"mName\":\"Tab Ovral L\",\"m\":\"\",\"a\":\"\",...</td>\n",
       "      <td>NONE</td>\n",
       "    </tr>\n",
       "    <tr>\n",
       "      <th>2</th>\n",
       "      <td>2021-06-11</td>\n",
       "      <td>M-Swasth  Doctor - FREE</td>\n",
       "      <td>CashPor</td>\n",
       "      <td>1</td>\n",
       "      <td>48043</td>\n",
       "      <td>7571029662</td>\n",
       "      <td>21:01:84:01:25</td>\n",
       "      <td>CALL</td>\n",
       "      <td>DONE</td>\n",
       "      <td>M</td>\n",
       "      <td>...</td>\n",
       "      <td>NIKHIL</td>\n",
       "      <td>Other</td>\n",
       "      <td>C/o Weakness with loss of appetite</td>\n",
       "      <td>Eat healthy food , green vegetables and fruits...</td>\n",
       "      <td>NO</td>\n",
       "      <td>NaN</td>\n",
       "      <td>YES</td>\n",
       "      <td>NaN</td>\n",
       "      <td>{\"pres\":[{\"mName\":\"Multiprex Cap\",\"m\":\"1\",\"a\":...</td>\n",
       "      <td>NONE</td>\n",
       "    </tr>\n",
       "    <tr>\n",
       "      <th>3</th>\n",
       "      <td>2021-06-11</td>\n",
       "      <td>M-Swasth  Doctor - FREE</td>\n",
       "      <td>CashPor</td>\n",
       "      <td>1</td>\n",
       "      <td>48603</td>\n",
       "      <td>7571029662</td>\n",
       "      <td>21:01:84:01:25</td>\n",
       "      <td>CALL</td>\n",
       "      <td>DONE</td>\n",
       "      <td>M</td>\n",
       "      <td>...</td>\n",
       "      <td>ravindra</td>\n",
       "      <td>Other</td>\n",
       "      <td>pain</td>\n",
       "      <td>Take nutritious diet\\nDo Excercise regularly\\n...</td>\n",
       "      <td>NO</td>\n",
       "      <td>CBC</td>\n",
       "      <td>YES</td>\n",
       "      <td>NaN</td>\n",
       "      <td>{\"pres\":[{\"mName\":\"Paracetamol 500mg Tab\",\"m\":...</td>\n",
       "      <td>R50</td>\n",
       "    </tr>\n",
       "    <tr>\n",
       "      <th>4</th>\n",
       "      <td>2021-06-16</td>\n",
       "      <td>M-Swasth  Doctor - FREE</td>\n",
       "      <td>CashPor</td>\n",
       "      <td>1</td>\n",
       "      <td>52282</td>\n",
       "      <td>7571029662</td>\n",
       "      <td>21:01:84:01:25</td>\n",
       "      <td>CALL</td>\n",
       "      <td>DONE</td>\n",
       "      <td>M</td>\n",
       "      <td>...</td>\n",
       "      <td>Harinder Pal</td>\n",
       "      <td>Other Pain</td>\n",
       "      <td>Gall Stones</td>\n",
       "      <td>Referred to nearby hospital for surgical consu...</td>\n",
       "      <td>YES</td>\n",
       "      <td>Ultrasound</td>\n",
       "      <td>NO</td>\n",
       "      <td>NaN</td>\n",
       "      <td>{\"pres\":[]}</td>\n",
       "      <td>K87</td>\n",
       "    </tr>\n",
       "  </tbody>\n",
       "</table>\n",
       "<p>5 rows × 21 columns</p>\n",
       "</div>"
      ],
      "text/plain": [
       "         Date                  Product  Channel EMR# Consultation #  \\\n",
       "0  2020-05-15  M-Swasth  Doctor - FREE  CashPor    1              1   \n",
       "1  2021-06-10  M-Swasth  Doctor - FREE  CashPor    1          47576   \n",
       "2  2021-06-11  M-Swasth  Doctor - FREE  CashPor    1          48043   \n",
       "3  2021-06-11  M-Swasth  Doctor - FREE  CashPor    1          48603   \n",
       "4  2021-06-16  M-Swasth  Doctor - FREE  CashPor    1          52282   \n",
       "\n",
       "     Mobile #        Member #  Type Status Patient Gender  ...        Doctor  \\\n",
       "0  7571029662  21:01:84:01:25  CALL   DONE              M  ...        SATISH   \n",
       "1  7571029662  21:01:84:01:25  CALL   DONE              M  ...     KADAMBARI   \n",
       "2  7571029662  21:01:84:01:25  CALL   DONE              M  ...        NIKHIL   \n",
       "3  7571029662  21:01:84:01:25  CALL   DONE              M  ...      ravindra   \n",
       "4  7571029662  21:01:84:01:25  CALL   DONE              M  ...  Harinder Pal   \n",
       "\n",
       "  Chief Complaint                           Diagnosis  \\\n",
       "0           Other                                   .   \n",
       "1           Other        Dysmenorrhea and menorrhagia   \n",
       "2           Other  C/o Weakness with loss of appetite   \n",
       "3           Other                                pain   \n",
       "4      Other Pain                         Gall Stones   \n",
       "\n",
       "                                              Advice REFERRED   Lab Tests  \\\n",
       "0                          referred to higher centre       NO         NaN   \n",
       "1  Advised not miss a single tablet of Ovral l\\nD...       NO         NaN   \n",
       "2  Eat healthy food , green vegetables and fruits...       NO         NaN   \n",
       "3  Take nutritious diet\\nDo Excercise regularly\\n...       NO         CBC   \n",
       "4  Referred to nearby hospital for surgical consu...      YES  Ultrasound   \n",
       "\n",
       "  Medicine Clinic Name                                   Prescrption json  \\\n",
       "0       NO         NaN                                        {\"pres\":[]}   \n",
       "1      YES         NaN  {\"pres\":[{\"mName\":\"Tab Ovral L\",\"m\":\"\",\"a\":\"\",...   \n",
       "2      YES         NaN  {\"pres\":[{\"mName\":\"Multiprex Cap\",\"m\":\"1\",\"a\":...   \n",
       "3      YES         NaN  {\"pres\":[{\"mName\":\"Paracetamol 500mg Tab\",\"m\":...   \n",
       "4       NO         NaN                                        {\"pres\":[]}   \n",
       "\n",
       "  ICD Code  \n",
       "0        .  \n",
       "1     NONE  \n",
       "2     NONE  \n",
       "3      R50  \n",
       "4      K87  \n",
       "\n",
       "[5 rows x 21 columns]"
      ]
     },
     "execution_count": 2,
     "metadata": {},
     "output_type": "execute_result"
    }
   ],
   "source": [
    "df.head()"
   ]
  },
  {
   "cell_type": "code",
   "execution_count": 3,
   "metadata": {},
   "outputs": [
    {
     "name": "stdout",
     "output_type": "stream",
     "text": [
      "Pickle file loaded from: clinic_cleaned.pkl\n"
     ]
    }
   ],
   "source": [
    "import os\n",
    "import pandas as pd\n",
    "\n",
    "# Define the path to the pickle file\n",
    "pickle_file_path = 'clinic_cleaned.pkl'\n",
    "\n",
    "# Check if the pickle file already exists\n",
    "if os.path.exists(pickle_file_path):\n",
    "    df = pd.read_pickle(pickle_file_path)\n",
    "    print(f\"Pickle file loaded from: {pickle_file_path}\")\n",
    "else:\n",
    "\n",
    "\n",
    "    column_to_clean = 'Diagnosis'\n",
    "\n",
    "    df[column_to_clean] = df[column_to_clean].str.replace('?', '', regex=False)\n",
    "    df[column_to_clean] = df[column_to_clean].str.replace('C/O', '', regex=False)\n",
    "    df[column_to_clean] = df[column_to_clean].str.replace('C/o', '', regex=False)\n",
    "    df[column_to_clean] = df[column_to_clean].str.replace('c/o', '', regex=False)\n",
    "    df[column_to_clean] = df[column_to_clean].str.replace('H/O', '', regex=False)\n",
    "    df[column_to_clean] = df[column_to_clean].str.replace('H/O', '', regex=False)\n",
    "    df[column_to_clean] = df[column_to_clean].str.replace('K/C/O HTN', '', regex=False)\n",
    "    df[column_to_clean] = df[column_to_clean].replace(r'\\\\n', ',', regex=True).replace(r'\\n', ',', regex=True)\n",
    "    df[column_to_clean] = df[column_to_clean].str.replace('u/E', '', regex=False)\n",
    "    df[column_to_clean] = df[column_to_clean].str.replace('U/E', '', regex=False)\n",
    "\n",
    "    # Deleting column\n",
    "    column_to_delete = 'Diagonis final'\n",
    "    if column_to_delete in df.columns:\n",
    "        df.drop([column_to_delete], axis=1, inplace=True)\n",
    "    else:\n",
    "        print(f\"Column '{column_to_delete}' not found in the DataFrame.\")\n",
    "\n",
    "    df[column_to_clean] = df[column_to_clean].str.lower()\n",
    "\n",
    "    # Save the cleaned DataFrame to a pickle file\n",
    "    df.to_pickle(pickle_file_path)\n",
    "    print(f\"Pickle file saved to: {pickle_file_path}\")\n",
    "\n",
    "# Display the updated DataFrame\n"
   ]
  },
  {
   "cell_type": "code",
   "execution_count": 4,
   "metadata": {},
   "outputs": [],
   "source": [
    "df['Date'] = pd.to_datetime(df['Date'], errors='coerce')\n",
    "df = df.dropna(subset=['Date'])\n",
    "df = df[df['Date'].dt.year >= 2024]"
   ]
  },
  {
   "cell_type": "code",
   "execution_count": 5,
   "metadata": {},
   "outputs": [],
   "source": [
    "df['Diagnosis'] = df.apply(\n",
    "    lambda row: row['Chief Complaint'] if pd.isnull(row['Diagnosis']) and isinstance(row['Chief Complaint'], str) and \n",
    "    row['Chief Complaint'].lower() != 'other' and row['Chief Complaint'].lower() != 'other pain' else row['Diagnosis'], \n",
    "    axis=1\n",
    ")\n"
   ]
  },
  {
   "cell_type": "code",
   "execution_count": 6,
   "metadata": {},
   "outputs": [],
   "source": [
    "df[\"Diagnosis\"].dropna(inplace=True)\n"
   ]
  },
  {
   "cell_type": "code",
   "execution_count": 7,
   "metadata": {},
   "outputs": [],
   "source": [
    "df = df.sort_values(by='Date', ascending=True)\n"
   ]
  },
  {
   "cell_type": "code",
   "execution_count": 8,
   "metadata": {},
   "outputs": [
    {
     "data": {
      "text/plain": [
       "Index(['Date', 'Product', 'Channel', 'EMR#', 'Consultation #', 'Mobile #',\n",
       "       'Member #', 'Type', 'Status', 'Patient Gender', 'FEMALE DOC ONLY',\n",
       "       'Doctor', 'Chief Complaint', 'Diagnosis', 'Advice', 'REFERRED',\n",
       "       'Lab Tests', 'Medicine', 'Clinic Name', 'Prescrption json', 'ICD Code'],\n",
       "      dtype='object')"
      ]
     },
     "execution_count": 8,
     "metadata": {},
     "output_type": "execute_result"
    }
   ],
   "source": [
    "df.columns"
   ]
  },
  {
   "cell_type": "code",
   "execution_count": 9,
   "metadata": {},
   "outputs": [
    {
     "data": {
      "text/plain": [
       "Diagnosis\n",
       "urti                                                                          35828\n",
       "weakness                                                                      31393\n",
       "cough                                                                         20405\n",
       "weakness                                                                      20372\n",
       "knee pain                                                                     17860\n",
       "                                                                              ...  \n",
       "heel pain , shoulder pain                                                         1\n",
       "injury to shoulder since 10yrs                                                    1\n",
       "anoraxia /weakness                                                                1\n",
       "low backache with tingling sensation legs - since 1 month,htn                     1\n",
       "upper respiratory tract infection c weakness  c diabetes c hypothyroidism         1\n",
       "Name: count, Length: 318349, dtype: int64"
      ]
     },
     "execution_count": 9,
     "metadata": {},
     "output_type": "execute_result"
    }
   ],
   "source": [
    "df['Diagnosis'].value_counts()"
   ]
  },
  {
   "cell_type": "code",
   "execution_count": 10,
   "metadata": {},
   "outputs": [],
   "source": [
    "df['Diagnosis'] = df['Diagnosis'].str.strip().str.lower()\n",
    "df= df[df['Diagnosis'] != '']"
   ]
  },
  {
   "cell_type": "code",
   "execution_count": 11,
   "metadata": {},
   "outputs": [
    {
     "data": {
      "text/plain": [
       "Diagnosis\n",
       "weakness                                                                     52753\n",
       "urti                                                                         43466\n",
       "cough                                                                        37441\n",
       "knee pain                                                                    25604\n",
       "headache                                                                     21912\n",
       "                                                                             ...  \n",
       "fever , cough, cold since 1 week                                                 1\n",
       "typhoid,gastritis,weakness                                                       1\n",
       "numbness rt thigh                                                                1\n",
       "fever ,body pain ,back pain                                                      1\n",
       "upper respiratory tract infection c weakness  c diabetes c hypothyroidism        1\n",
       "Name: count, Length: 297904, dtype: int64"
      ]
     },
     "execution_count": 11,
     "metadata": {},
     "output_type": "execute_result"
    }
   ],
   "source": [
    "df['Diagnosis'].value_counts()"
   ]
  },
  {
   "cell_type": "code",
   "execution_count": 12,
   "metadata": {},
   "outputs": [],
   "source": [
    "import pandas as pd\n",
    "import re\n",
    "\n",
    "# Create a regex pattern to split by multiple delimiters\n",
    "delimiters = [',', '/', '&', ' and ', ' , ', 'with']\n",
    "pattern = '|'.join(map(re.escape, delimiters))\n",
    "\n",
    "# Function to split and explode the Diagnosis column\n",
    "\n",
    "\n",
    "def split_and_explode(df, column, pattern):\n",
    "    # Split the column by the pattern and create a new DataFrame with exploded values\n",
    "    s = df[column].str.split(pattern, expand=True).stack()\n",
    "    s = s.str.strip()  # Remove leading/trailing whitespaces\n",
    "    # Adjust index to match the original DataFrame\n",
    "    s.index = s.index.droplevel(-1)\n",
    "    return df.drop(columns=[column]).join(s.rename(column))\n",
    "\n",
    "\n",
    "# Apply the function to the DataFrame\n",
    "result_data = split_and_explode(df, 'Diagnosis', pattern)\n",
    "\n",
    "# Remove duplicates and reset the index\n",
    "result_data = result_data.drop_duplicates().reset_index(drop=True)\n",
    "\n"
   ]
  },
  {
   "cell_type": "code",
   "execution_count": 13,
   "metadata": {},
   "outputs": [
    {
     "data": {
      "text/plain": [
       "Diagnosis\n",
       "weakness                                                                     246682\n",
       "cough                                                                        152530\n",
       "gastritis                                                                     89980\n",
       "headache                                                                      78070\n",
       "fever                                                                         75091\n",
       "                                                                              ...  \n",
       "itchy lesion over thigh                                                           1\n",
       "cold - allergic in nature                                                         1\n",
       "eyeache since 2 days                                                              1\n",
       "rhinorrhea - since 2 days                                                         1\n",
       "upper respiratory tract infection c weakness  c diabetes c hypothyroidism         1\n",
       "Name: count, Length: 112643, dtype: int64"
      ]
     },
     "execution_count": 13,
     "metadata": {},
     "output_type": "execute_result"
    }
   ],
   "source": [
    "result_data['Diagnosis'].value_counts()"
   ]
  },
  {
   "cell_type": "code",
   "execution_count": 14,
   "metadata": {},
   "outputs": [
    {
     "name": "stdout",
     "output_type": "stream",
     "text": [
      "3\n"
     ]
    }
   ],
   "source": [
    "# reverse_mapping = {\n",
    "#     'weakness': ['weakness', 'generalized weakness', 'generalized body weakness', 'generalised weakness', 'generalised body pain', 'generalised body ache', 'weaknes', 'weekness', 'weakness.', 'bodyache weakness', 'bodypain weakness', 'headache weakness', 'fever weakness', 'weakness since 8days',\"bodyache,weakness\",\"1 weakness\"],\n",
    "#     'cough': ['cough', 'dry cough', 'cough.', 'coughing', 'cough cold', 'cough x3d', 'productive cough', 'non productive', 'fever cough', 'fever cough cold', 'cough cold since 2days', 'wet cough', 'acute cough', 'cough.', 'flu like symptoms-cough', 'fever cold cough'],\n",
    "#     'gastritis': ['gastritis', 'acute gastritis', 'gas', 'hyperacidity', 'gerd', 'indigestion', 'acidity', 'acidity.', 'acid reflux'],\n",
    "#     'headache': ['headache', 'headache.', 'head ache', 'migraine'],\n",
    "#     'fever': ['fever', 'viral fever', 'seasonal fever', 'fever x3d', 'mild fever.', 'pyrexia'],\n",
    "#     'urti': ['urti', 'upper respiratory tract infection', 'urti features', 'uri', 'upper respiratory tract infection c weakness', 'upper respiratory tract infection c weakness c anorexia'],\n",
    "#     'knee pain': ['knee pain', 'knee pain b', 'kneepain', 'knee pain [ weakness ]', 'knee pain', 'knee joint pain', 'knee-pain', 'knee arthralgia'],\n",
    "#     'cold': ['cold', 'common cold', 'common cold weakness', 'cold cough', ' cold', 'cold and cough'],\n",
    "#     'body pain': ['body pain', 'body pain.', 'body pain', 'body pain and. weakness', 'generalised body pain', 'generalized body pain', 'body pains', 'body pain weakness', 'generalized body ache'],\n",
    "#     'back pain': ['back pain', 'low back pain', 'low backache', 'low back ache', 'lba', 'backache', 'lower back pain', 'lower back ache', 'backpain', 'pain back', 'pain in back', 'pain lower back', 'lumbago'],\n",
    "#     'leg pain': ['leg pain', 'pain in legs', 'l leg pain', 'left leg pain', 'legpain', 'right leg pain', 'pain in lower limb', 'leg.', 'leg', 'pain in leg'],\n",
    "#     'myalgia': ['myalgia', 'myalgia [ weakness ]', 'myalgia b'],\n",
    "#     'ringworm': ['ringworm', 'ring worm', 'ringworm infection', 'ring worm infection', 'tinea', 'tinea corporis', 'tinea cruris'],\n",
    "#     'anorexia': ['anorexia', 'loss of appetite', 'anorexia'],\n",
    "#     'leucorrhoea': ['leucorrhoea', 'leucorrhea', 'leukorrhea'],\n",
    "#     'hypertension': ['hypertension', 'htn', 'high bp'],\n",
    "#     'hypotension': ['hypotension', 'low bp'],\n",
    "#     'toothache': ['toothache', 'tooth ache', 'tooth pain', 'dental caries'],\n",
    "#     'chest pain': ['chest pain'],\n",
    "#     'itching': ['itching', 'pruritus', 'pruritis', 'itching over body', 'itching all over body', 'itchiness', 'skin itching'],\n",
    "#     'malaise': ['malaise', 'generalized malaise'],\n",
    "#     'shoulder pain': ['shoulder pain', 'pain shoulder', 'right shoulder pain', 'left shoulder pain'],\n",
    "#     'joint pain': ['joint pain', 'arthralgia', 'arthalgia', 'joint pain', 'arthralgia knee', 'polyarthralgia'],\n",
    "#     'fungal infection': ['fungal infection'],\n",
    "#     'arthritis': ['arthritis', 'osteoarthritis'],\n",
    "#     'rhinitis': ['allergic rhinitis', 'rhinitis'],\n",
    "#     'gastrointestinal symptoms': ['gastrointestinal symptoms', 'gastroenteritis'],\n",
    "#     'diabetes': ['diabetes', 'diabetes mellitus', 'dm', 't2dm'],\n",
    "#     'skin problems': ['skin problems', 'skin problem', 'skin infection', 'skin allergy', 'eczema', 'dermatitis', 'contact dermatitis', 'dandruff', 'xeroderma'],\n",
    "#     'anemia': ['anaemia', 'anemia', 'anemia'],\n",
    "#     'dizziness': ['dizziness', 'giddiness'],\n",
    "#     'vomiting': ['vomiting', 'vomitting','vomit','pukish'],\n",
    "#     'nausea': ['nausea'],\n",
    "#     'swelling': ['swelling', 'oedema', 'edema'],\n",
    "#     'dehydration': ['dehydration'],\n",
    "#     'hair loss': ['hairfall', 'hair fall'],\n",
    "#     'urinary tract infection': ['uti', 'urinary tract infection'],\n",
    "#     'body pain': ['body pain', 'generalised body pain', 'generalized body pain'],\n",
    "#     'generalized pain': ['generalized pain'],\n",
    "#     'visual acuity': ['visual acuity', 'refractive error'],\n",
    "#     'pain': ['pain', 'other pain', 'body pain', 'bodypain', 'pain body', 'pain abdomen', 'pain in abdomen', 'abdominal pain', 'pain in body', 'generalised body pain', 'generalised pain'],\n",
    "#     'sore throat': ['sore throat', 'pharyngitis'],\n",
    "#     'ear pain': ['ear pain', 'earache'],\n",
    "#     'neck pain': ['neck pain'],\n",
    "#     'allergy': ['allergy', 'skin allergy', 'itching over body', 'itching all over body'],\n",
    "#     'nutritional deficiency': ['nutritional deficiency', 'vitamin deficiency'],\n",
    "#     'hypothyroidism': ['hypothyroidism'],\n",
    "#     'diabetes': ['diabetes', 'diabetes mellitus'],\n",
    "#     'spondylosis': ['spondylosis', 'cervical spondylosis']\n",
    "#     # Add more mappings as needed\n",
    "# }\n",
    "print(3)\n"
   ]
  },
  {
   "cell_type": "code",
   "execution_count": 15,
   "metadata": {},
   "outputs": [
    {
     "name": "stdout",
     "output_type": "stream",
     "text": [
      "6\n"
     ]
    }
   ],
   "source": [
    "# def map_diagnosis(diagnosis):\n",
    "#     \"\"\"Map diagnosis to its canonical form using the reverse_mapping dictionary.\"\"\"\n",
    "#     if isinstance(diagnosis, str):\n",
    "#         diagnoses = [d.strip().lower() for d in diagnosis.split(',')]\n",
    "#     elif isinstance(diagnosis, list):\n",
    "#         diagnoses = [d.strip().lower() for d in diagnosis]\n",
    "#     else:\n",
    "#         return diagnosis\n",
    "\n",
    "#     mapped_diagnoses = []\n",
    "#     for d in diagnoses:\n",
    "#         mapped = False\n",
    "#         for canonical_form, synonyms in reverse_mapping.items():\n",
    "#             if d in [s.lower() for s in synonyms]:\n",
    "#                 mapped_diagnoses.append(canonical_form)\n",
    "#                 mapped = True\n",
    "#                 break\n",
    "#         if not mapped:\n",
    "#             mapped_diagnoses.append(d)\n",
    "    \n",
    "#     return ', '.join(mapped_diagnoses)\n",
    "print(6)\n"
   ]
  },
  {
   "cell_type": "code",
   "execution_count": 16,
   "metadata": {},
   "outputs": [],
   "source": [
    "import pandas as pd\n",
    "import numpy as np\n",
    "from rapidfuzz import process, fuzz\n",
    "\n",
    "def create_canonical_forms(df, column_name, threshold=80):\n",
    "    \"\"\"\n",
    "    Create a dictionary of canonical forms based on the most common diagnoses using RapidFuzz.\n",
    "    \n",
    "    Args:\n",
    "    df (pandas.DataFrame): The input DataFrame\n",
    "    column_name (str): The name of the column containing diagnoses\n",
    "    threshold (int): The similarity threshold for fuzzy matching\n",
    "    \n",
    "    Returns:\n",
    "    dict: A dictionary mapping similar diagnoses to their canonical forms\n",
    "    \"\"\"\n",
    "    # Split multi-diagnoses and create a flat list, handling NaN values\n",
    "    all_diagnoses = [\n",
    "        diagnosis.strip().lower() \n",
    "        for diagnoses in df[column_name].dropna().astype(str).str.split(',') \n",
    "        for diagnosis in diagnoses\n",
    "    ]\n",
    "    \n",
    "    # Get unique diagnoses sorted by frequency\n",
    "    unique_diagnoses = pd.Series(all_diagnoses).value_counts().index.tolist()\n",
    "    \n",
    "    canonical_forms = {}\n",
    "    mapped_diagnoses = set()\n",
    "    \n",
    "    for diagnosis in unique_diagnoses:\n",
    "        if diagnosis not in mapped_diagnoses:\n",
    "            try:\n",
    "                similar_diagnoses = process.extract(diagnosis, unique_diagnoses, limit=None, scorer=fuzz.ratio)\n",
    "                for match in similar_diagnoses:\n",
    "                    if len(match) >= 2:\n",
    "                        similar, score = match[0], match[1]\n",
    "                        if score >= threshold and similar not in mapped_diagnoses:\n",
    "                            canonical_forms[similar] = diagnosis\n",
    "                            mapped_diagnoses.add(similar)\n",
    "                    else:\n",
    "                        print(f\"Unexpected match format for diagnosis '{diagnosis}': {match}\")\n",
    "            except Exception as e:\n",
    "                print(f\"Error processing diagnosis '{diagnosis}': {str(e)}\")\n",
    "    \n",
    "    return canonical_forms\n",
    "\n",
    "def map_diagnosis(diagnosis, canonical_forms):\n",
    "    \"\"\"Map a single diagnosis to its canonical form.\"\"\"\n",
    "    if pd.isna(diagnosis):\n",
    "        return np.nan\n",
    "    return canonical_forms.get(str(diagnosis).strip().lower(), diagnosis)\n",
    "\n",
    "def process_diagnoses(df, column_name):\n",
    "    \"\"\"Process the diagnoses column and map to canonical forms.\"\"\"\n",
    "    # Create canonical forms\n",
    "    canonical_forms = create_canonical_forms(df, column_name)\n",
    "    \n",
    "    # Function to process a single cell (which may contain multiple diagnoses)\n",
    "    def process_cell(cell):\n",
    "        if pd.isna(cell):\n",
    "            return np.nan\n",
    "        diagnoses = [d.strip() for d in str(cell).split(',')]\n",
    "        mapped_diagnoses = [map_diagnosis(d, canonical_forms) for d in diagnoses]\n",
    "        return ', '.join(filter(lambda x: not pd.isna(x), mapped_diagnoses))\n",
    "    \n",
    "    # Apply the processing to the entire column\n",
    "    df[column_name] = df[column_name].apply(process_cell)\n",
    "    \n",
    "    return df\n",
    "\n",
    "# Assuming you have a DataFrame named 'df' with a 'Diagnosis' column\n",
    "# df = pd.read_csv('your_data.csv')  # Uncomment this line if you need to load the data\n",
    "\n"
   ]
  },
  {
   "cell_type": "code",
   "execution_count": 17,
   "metadata": {},
   "outputs": [
    {
     "name": "stdout",
     "output_type": "stream",
     "text": [
      "Diagnosis\n",
      "weakness                                                        256730\n",
      "cough                                                           154070\n",
      "gastritis                                                        91866\n",
      "headache                                                         82422\n",
      "fever                                                            76260\n",
      "                                                                 ...  \n",
      "pain in lower abdomen  periodical c dysmenorrhoea c weakness         1\n",
      "pv spotting but no pregnancy.                                        1\n",
      "feet  c anxiety  c anorexia                                          1\n",
      "pain in neck decreased vision                                        1\n",
      "had a h                                                              1\n",
      "Name: count, Length: 43390, dtype: int64\n",
      "\n",
      "Diagnosis Mapping:\n"
     ]
    }
   ],
   "source": [
    "# Assuming you have a DataFrame named 'df' with a 'Diagnosis' column\n",
    "# df = pd.read_csv('your_data.csv')  # Uncomment this line if you need to load the data\n",
    "\n",
    "# Process the diagnoses\n",
    "result_data = process_diagnoses(result_data, 'Diagnosis')\n",
    "\n",
    "# Display the updated value counts\n",
    "print(result_data['Diagnosis'].value_counts())\n",
    "\n"
   ]
  },
  {
   "cell_type": "code",
   "execution_count": 37,
   "metadata": {},
   "outputs": [],
   "source": [
    "def remove_invalid_diagnoses(df, column_name='Diagnosis'):\n",
    "    \"\"\"\n",
    "    Remove blank entries and single-letter entries from the specified column.\n",
    "    \n",
    "    Args:\n",
    "    df (pandas.DataFrame): The input DataFrame\n",
    "    column_name (str): The name of the column to process (default is 'Diagnosis')\n",
    "    \n",
    "    Returns:\n",
    "    pandas.DataFrame: The DataFrame with invalid entries removed\n",
    "    \"\"\"\n",
    "    # Replace empty strings, whitespace-only strings, and single-letter entries with NaN\n",
    "    df[column_name] = df[column_name].replace(r'^\\s*$', np.nan, regex=True)\n",
    "    df[column_name] = df[column_name].replace(r'^\\s*.\\s*$', np.nan, regex=True)\n",
    "    \n",
    "    # Remove rows where the specified column is NaN\n",
    "    df = df.dropna(subset=[column_name])\n",
    "    \n",
    "    # Strip leading and trailing whitespace from the remaining entries\n",
    "    df[column_name] = df[column_name].str.strip()\n",
    "    \n",
    "    return df\n"
   ]
  },
  {
   "cell_type": "code",
   "execution_count": 38,
   "metadata": {},
   "outputs": [
    {
     "name": "stderr",
     "output_type": "stream",
     "text": [
      "C:\\Users\\siidh\\AppData\\Local\\Temp\\ipykernel_16884\\789178421.py:13: SettingWithCopyWarning: \n",
      "A value is trying to be set on a copy of a slice from a DataFrame.\n",
      "Try using .loc[row_indexer,col_indexer] = value instead\n",
      "\n",
      "See the caveats in the documentation: https://pandas.pydata.org/pandas-docs/stable/user_guide/indexing.html#returning-a-view-versus-a-copy\n",
      "  df[column_name] = df[column_name].replace(r'^\\s*$', np.nan, regex=True)\n",
      "C:\\Users\\siidh\\AppData\\Local\\Temp\\ipykernel_16884\\789178421.py:14: SettingWithCopyWarning: \n",
      "A value is trying to be set on a copy of a slice from a DataFrame.\n",
      "Try using .loc[row_indexer,col_indexer] = value instead\n",
      "\n",
      "See the caveats in the documentation: https://pandas.pydata.org/pandas-docs/stable/user_guide/indexing.html#returning-a-view-versus-a-copy\n",
      "  df[column_name] = df[column_name].replace(r'^\\s*.\\s*$', np.nan, regex=True)\n",
      "C:\\Users\\siidh\\AppData\\Local\\Temp\\ipykernel_16884\\789178421.py:20: SettingWithCopyWarning: \n",
      "A value is trying to be set on a copy of a slice from a DataFrame.\n",
      "Try using .loc[row_indexer,col_indexer] = value instead\n",
      "\n",
      "See the caveats in the documentation: https://pandas.pydata.org/pandas-docs/stable/user_guide/indexing.html#returning-a-view-versus-a-copy\n",
      "  df[column_name] = df[column_name].str.strip()\n"
     ]
    }
   ],
   "source": [
    "result_data = remove_invalid_diagnoses(result_data)\n"
   ]
  },
  {
   "cell_type": "code",
   "execution_count": 41,
   "metadata": {},
   "outputs": [
    {
     "data": {
      "text/plain": [
       "Diagnosis\n",
       "weakness                                  256730\n",
       "cough                                     154070\n",
       "gastritis                                  91866\n",
       "headache                                   82422\n",
       "fever                                      76260\n",
       "                                           ...  \n",
       "cough  swalling in hand                        1\n",
       "lumbar spondylosis  not on treatment           1\n",
       "albinism                                       1\n",
       "lump in the axila 1mth lymphadenopathy         1\n",
       "had a h                                        1\n",
       "Name: count, Length: 43349, dtype: int64"
      ]
     },
     "execution_count": 41,
     "metadata": {},
     "output_type": "execute_result"
    }
   ],
   "source": [
    "result_data[\"Diagnosis\"].value_counts()"
   ]
  },
  {
   "cell_type": "code",
   "execution_count": 42,
   "metadata": {},
   "outputs": [],
   "source": [
    "result_data.to_pickle(\"Diagnosis_filtered.pkl\")"
   ]
  },
  {
   "cell_type": "code",
   "execution_count": 18,
   "metadata": {},
   "outputs": [],
   "source": [
    "# result_data['Diagnosis'] = result_data['Diagnosis'].apply(map_diagnosis)\n"
   ]
  },
  {
   "cell_type": "code",
   "execution_count": 19,
   "metadata": {},
   "outputs": [],
   "source": [
    "# result_data['Diagnosis'].value_counts().to_csv(\"1.csv\")\n"
   ]
  },
  {
   "cell_type": "markdown",
   "metadata": {},
   "source": [
    "ENDDDDDDDDDDDDDDDDDDDDDDDDDDDDDDDDDDDDDDDDDDDDDDDDDDDDDDDDDDD"
   ]
  },
  {
   "cell_type": "code",
   "execution_count": null,
   "metadata": {},
   "outputs": [],
   "source": []
  }
 ],
 "metadata": {
  "kernelspec": {
   "display_name": "Python 3",
   "language": "python",
   "name": "python3"
  },
  "language_info": {
   "codemirror_mode": {
    "name": "ipython",
    "version": 3
   },
   "file_extension": ".py",
   "mimetype": "text/x-python",
   "name": "python",
   "nbconvert_exporter": "python",
   "pygments_lexer": "ipython3",
   "version": "3.11.4"
  }
 },
 "nbformat": 4,
 "nbformat_minor": 2
}
